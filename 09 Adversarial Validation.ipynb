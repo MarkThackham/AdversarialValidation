{
 "cells": [
  {
   "cell_type": "code",
   "execution_count": null,
   "metadata": {},
   "outputs": [],
   "source": [
    "# Adversarial Validation"
   ]
  },
  {
   "cell_type": "code",
   "execution_count": 7,
   "metadata": {},
   "outputs": [],
   "source": [
    "import pandas as pd\n",
    "import numpy as np"
   ]
  },
  {
   "cell_type": "code",
   "execution_count": 49,
   "metadata": {},
   "outputs": [
    {
     "name": "stdout",
     "output_type": "stream",
     "text": [
      "2022-01-31\n",
      "2022-02-28\n",
      "2022-03-31\n",
      "2022-04-30\n",
      "2022-05-31\n",
      "2022-06-30\n",
      "2022-07-31\n",
      "2022-08-31\n",
      "2022-09-30\n",
      "2022-10-31\n",
      "2022-11-30\n",
      "2022-12-31\n"
     ]
    }
   ],
   "source": [
    "from datetime import date, timedelta\n",
    "\n",
    "def last_day(input):\n",
    "    temp=input.replace(day=1) + timedelta(days=31)\n",
    "    return temp-timedelta(days=temp.day)\n",
    "\n",
    "for month in range(1, 13):\n",
    "    print(last_day(date(2022, month, 1)))\n",
    "    "
   ]
  }
 ],
 "metadata": {
  "kernelspec": {
   "display_name": "Python 3",
   "language": "python",
   "name": "python3"
  },
  "language_info": {
   "codemirror_mode": {
    "name": "ipython",
    "version": 3
   },
   "file_extension": ".py",
   "mimetype": "text/x-python",
   "name": "python",
   "nbconvert_exporter": "python",
   "pygments_lexer": "ipython3",
   "version": "3.11.0"
  }
 },
 "nbformat": 4,
 "nbformat_minor": 2
}
